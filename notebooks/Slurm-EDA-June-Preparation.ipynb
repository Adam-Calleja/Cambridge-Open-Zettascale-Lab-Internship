{
 "cells": [
  {
   "attachments": {},
   "cell_type": "markdown",
   "id": "241ef728",
   "metadata": {},
   "source": [
    "# Slurm EDA - Anonymised June Data Preparation"
   ]
  },
  {
   "attachments": {},
   "cell_type": "markdown",
   "id": "27012fde",
   "metadata": {},
   "source": [
    "In this Jupyter Notebook, we continue the EDA started in the *Slurm-EDA-Sample-Data* notebook. We will continue to work on the processing of the data, however we will use the anonymised June sacct data rather than our own sample data. "
   ]
  },
  {
   "cell_type": "markdown",
   "id": "45a91266",
   "metadata": {},
   "source": [
    "We will begin by importing all the necessary libraries. "
   ]
  },
  {
   "cell_type": "code",
   "execution_count": 1,
   "id": "444d379c",
   "metadata": {},
   "outputs": [],
   "source": [
    "import pandas as pd\n",
    "import numpy as np\n",
    "import datetime\n",
    "import re\n",
    "import plotly.express as px\n",
    "import plotly.graph_objects as go\n",
    "import plotly.subplots as sp"
   ]
  },
  {
   "cell_type": "markdown",
   "id": "faa7419f",
   "metadata": {},
   "source": [
    "### Loading in The Partition Data"
   ]
  },
  {
   "attachments": {},
   "cell_type": "markdown",
   "id": "cf94dc29",
   "metadata": {},
   "source": [
    "Here we will load in the *dfPartition* DataFrame that we prepared in the *Slurm-EDA-Sample-Data* notebook so that we can use it in this notebook. "
   ]
  },
  {
   "cell_type": "code",
   "execution_count": 2,
   "id": "6ca6f615",
   "metadata": {},
   "outputs": [],
   "source": [
    "# Here we read the csv file containing the dfPartition DataFrame\n",
    "dfPartition = pd.read_csv('../data/dfPartition.csv', index_col=0)"
   ]
  },
  {
   "cell_type": "markdown",
   "id": "d6d7cf9f",
   "metadata": {},
   "source": [
    "### Loading in the Job Data"
   ]
  },
  {
   "cell_type": "markdown",
   "id": "775c1320",
   "metadata": {},
   "source": [
    "We have saved the dataset containing all the anonymized job data for June in the file *sacct_june_anonymized.csv*. \n",
    "\n",
    "We will read the anonymized job data for June and store it in the DataFrame 'dfSacctJune'."
   ]
  },
  {
   "cell_type": "code",
   "execution_count": 3,
   "id": "3a09f921",
   "metadata": {
    "scrolled": false
   },
   "outputs": [
    {
     "data": {
      "text/html": [
       "<div>\n",
       "<style scoped>\n",
       "    .dataframe tbody tr th:only-of-type {\n",
       "        vertical-align: middle;\n",
       "    }\n",
       "\n",
       "    .dataframe tbody tr th {\n",
       "        vertical-align: top;\n",
       "    }\n",
       "\n",
       "    .dataframe thead th {\n",
       "        text-align: right;\n",
       "    }\n",
       "</style>\n",
       "<table border=\"1\" class=\"dataframe\">\n",
       "  <thead>\n",
       "    <tr style=\"text-align: right;\">\n",
       "      <th></th>\n",
       "      <th>JobName</th>\n",
       "      <th>Partition</th>\n",
       "      <th>ElapsedRaw</th>\n",
       "      <th>Account</th>\n",
       "      <th>State</th>\n",
       "      <th>CPUTimeRAW</th>\n",
       "      <th>NodeList</th>\n",
       "      <th>User</th>\n",
       "      <th>AllocCPUS</th>\n",
       "      <th>AllocNodes</th>\n",
       "      <th>QOS</th>\n",
       "      <th>Start</th>\n",
       "      <th>End</th>\n",
       "      <th>Timelimit</th>\n",
       "      <th>Suspended</th>\n",
       "    </tr>\n",
       "    <tr>\n",
       "      <th>JobIDRaw</th>\n",
       "      <th></th>\n",
       "      <th></th>\n",
       "      <th></th>\n",
       "      <th></th>\n",
       "      <th></th>\n",
       "      <th></th>\n",
       "      <th></th>\n",
       "      <th></th>\n",
       "      <th></th>\n",
       "      <th></th>\n",
       "      <th></th>\n",
       "      <th></th>\n",
       "      <th></th>\n",
       "      <th></th>\n",
       "      <th></th>\n",
       "    </tr>\n",
       "  </thead>\n",
       "  <tbody>\n",
       "    <tr>\n",
       "      <th>15669021</th>\n",
       "      <td>0036959c5bc8397d719d9c1699b38d751afc8fb6eca27c...</td>\n",
       "      <td>skylake</td>\n",
       "      <td>0</td>\n",
       "      <td>bc9b09a5785b66545ba030dbf421adb9f676a3fccb81dd...</td>\n",
       "      <td>CANCELLED by 628</td>\n",
       "      <td>0</td>\n",
       "      <td>None assigned</td>\n",
       "      <td>8138da81aa8ac07579ba662a85b6886c0180b30648ce31...</td>\n",
       "      <td>768</td>\n",
       "      <td>0</td>\n",
       "      <td>dirac-cpu1</td>\n",
       "      <td>Unknown</td>\n",
       "      <td>2023-07-24T09:26:17</td>\n",
       "      <td>1-12:00:00</td>\n",
       "      <td>00:00:00</td>\n",
       "    </tr>\n",
       "    <tr>\n",
       "      <th>16604661</th>\n",
       "      <td>8cf2680e34f11d7869634180971329487846dc1a37796f...</td>\n",
       "      <td>ampere</td>\n",
       "      <td>0</td>\n",
       "      <td>89d68041add78dfc7c00c487e8014ac31de6a2302c9237...</td>\n",
       "      <td>PENDING</td>\n",
       "      <td>0</td>\n",
       "      <td>None assigned</td>\n",
       "      <td>a09eadd00bfbbad5faf87c1f2cb461eb1ede976c0f6bbd...</td>\n",
       "      <td>1</td>\n",
       "      <td>0</td>\n",
       "      <td>gpu1</td>\n",
       "      <td>Unknown</td>\n",
       "      <td>Unknown</td>\n",
       "      <td>12:00:00</td>\n",
       "      <td>00:00:00</td>\n",
       "    </tr>\n",
       "    <tr>\n",
       "      <th>16604679</th>\n",
       "      <td>a0a4ddbfff70d045b46cea150835e8ed5c954746b13529...</td>\n",
       "      <td>ampere</td>\n",
       "      <td>0</td>\n",
       "      <td>89d68041add78dfc7c00c487e8014ac31de6a2302c9237...</td>\n",
       "      <td>PENDING</td>\n",
       "      <td>0</td>\n",
       "      <td>None assigned</td>\n",
       "      <td>a09eadd00bfbbad5faf87c1f2cb461eb1ede976c0f6bbd...</td>\n",
       "      <td>1</td>\n",
       "      <td>0</td>\n",
       "      <td>gpu1</td>\n",
       "      <td>Unknown</td>\n",
       "      <td>Unknown</td>\n",
       "      <td>12:00:00</td>\n",
       "      <td>00:00:00</td>\n",
       "    </tr>\n",
       "    <tr>\n",
       "      <th>16604696</th>\n",
       "      <td>9bef61280f5a21bb68a4e7981914381a7014c069fab138...</td>\n",
       "      <td>ampere</td>\n",
       "      <td>0</td>\n",
       "      <td>89d68041add78dfc7c00c487e8014ac31de6a2302c9237...</td>\n",
       "      <td>PENDING</td>\n",
       "      <td>0</td>\n",
       "      <td>None assigned</td>\n",
       "      <td>a09eadd00bfbbad5faf87c1f2cb461eb1ede976c0f6bbd...</td>\n",
       "      <td>1</td>\n",
       "      <td>0</td>\n",
       "      <td>gpu1</td>\n",
       "      <td>Unknown</td>\n",
       "      <td>Unknown</td>\n",
       "      <td>12:00:00</td>\n",
       "      <td>00:00:00</td>\n",
       "    </tr>\n",
       "    <tr>\n",
       "      <th>16604714</th>\n",
       "      <td>bb1707d470849c6d4c96460b43058b37319658826df637...</td>\n",
       "      <td>ampere</td>\n",
       "      <td>0</td>\n",
       "      <td>89d68041add78dfc7c00c487e8014ac31de6a2302c9237...</td>\n",
       "      <td>PENDING</td>\n",
       "      <td>0</td>\n",
       "      <td>None assigned</td>\n",
       "      <td>a09eadd00bfbbad5faf87c1f2cb461eb1ede976c0f6bbd...</td>\n",
       "      <td>1</td>\n",
       "      <td>0</td>\n",
       "      <td>gpu1</td>\n",
       "      <td>Unknown</td>\n",
       "      <td>Unknown</td>\n",
       "      <td>12:00:00</td>\n",
       "      <td>00:00:00</td>\n",
       "    </tr>\n",
       "  </tbody>\n",
       "</table>\n",
       "</div>"
      ],
      "text/plain": [
       "                                                    JobName Partition  \\\n",
       "JobIDRaw                                                                \n",
       "15669021  0036959c5bc8397d719d9c1699b38d751afc8fb6eca27c...   skylake   \n",
       "16604661  8cf2680e34f11d7869634180971329487846dc1a37796f...    ampere   \n",
       "16604679  a0a4ddbfff70d045b46cea150835e8ed5c954746b13529...    ampere   \n",
       "16604696  9bef61280f5a21bb68a4e7981914381a7014c069fab138...    ampere   \n",
       "16604714  bb1707d470849c6d4c96460b43058b37319658826df637...    ampere   \n",
       "\n",
       "          ElapsedRaw                                            Account  \\\n",
       "JobIDRaw                                                                  \n",
       "15669021           0  bc9b09a5785b66545ba030dbf421adb9f676a3fccb81dd...   \n",
       "16604661           0  89d68041add78dfc7c00c487e8014ac31de6a2302c9237...   \n",
       "16604679           0  89d68041add78dfc7c00c487e8014ac31de6a2302c9237...   \n",
       "16604696           0  89d68041add78dfc7c00c487e8014ac31de6a2302c9237...   \n",
       "16604714           0  89d68041add78dfc7c00c487e8014ac31de6a2302c9237...   \n",
       "\n",
       "                     State  CPUTimeRAW       NodeList  \\\n",
       "JobIDRaw                                                \n",
       "15669021  CANCELLED by 628           0  None assigned   \n",
       "16604661           PENDING           0  None assigned   \n",
       "16604679           PENDING           0  None assigned   \n",
       "16604696           PENDING           0  None assigned   \n",
       "16604714           PENDING           0  None assigned   \n",
       "\n",
       "                                                       User  AllocCPUS  \\\n",
       "JobIDRaw                                                                 \n",
       "15669021  8138da81aa8ac07579ba662a85b6886c0180b30648ce31...        768   \n",
       "16604661  a09eadd00bfbbad5faf87c1f2cb461eb1ede976c0f6bbd...          1   \n",
       "16604679  a09eadd00bfbbad5faf87c1f2cb461eb1ede976c0f6bbd...          1   \n",
       "16604696  a09eadd00bfbbad5faf87c1f2cb461eb1ede976c0f6bbd...          1   \n",
       "16604714  a09eadd00bfbbad5faf87c1f2cb461eb1ede976c0f6bbd...          1   \n",
       "\n",
       "          AllocNodes         QOS    Start                  End   Timelimit  \\\n",
       "JobIDRaw                                                                     \n",
       "15669021           0  dirac-cpu1  Unknown  2023-07-24T09:26:17  1-12:00:00   \n",
       "16604661           0        gpu1  Unknown              Unknown    12:00:00   \n",
       "16604679           0        gpu1  Unknown              Unknown    12:00:00   \n",
       "16604696           0        gpu1  Unknown              Unknown    12:00:00   \n",
       "16604714           0        gpu1  Unknown              Unknown    12:00:00   \n",
       "\n",
       "         Suspended  \n",
       "JobIDRaw            \n",
       "15669021  00:00:00  \n",
       "16604661  00:00:00  \n",
       "16604679  00:00:00  \n",
       "16604696  00:00:00  \n",
       "16604714  00:00:00  "
      ]
     },
     "execution_count": 3,
     "metadata": {},
     "output_type": "execute_result"
    }
   ],
   "source": [
    "# We will now read the .csv file containing the anonymized job data for June into a pandas DataFrame\n",
    "# Here we specify 'index_col=0', since the frist column of the csv file contains the indexes of the rows. \n",
    "sSlurmDataPath = '../data/data_anonymized.csv'\n",
    "dfSacct = pd.read_csv(sSlurmDataPath, index_col=0)\n",
    "\n",
    "# We are also going to make the JobIDRaw column the index of our DataFrame\n",
    "dfSacct.set_index(['JobIDRaw'], drop=True, inplace=True)\n",
    "\n",
    "# We will now output the first 5 rows of the DataFrame\n",
    "dfSacct.head()"
   ]
  },
  {
   "cell_type": "markdown",
   "id": "ed3ad6ee",
   "metadata": {},
   "source": [
    "### Processing The Job Data"
   ]
  },
  {
   "cell_type": "markdown",
   "id": "5ad50af8",
   "metadata": {},
   "source": [
    "As seen by the first 5 rows of the *dfSacctJune* DataFrame, some jobs contained in this dataset have been cancelled. Since cancelled jobs have not run, they will not have consumed any energy resulting in no carbon emissions. As a result we can remove these jobs from the DataFrame.\n",
    "\n",
    "We are going to remove all jobs that have 0 CPU time, since these jobs will not have run."
   ]
  },
  {
   "cell_type": "code",
   "execution_count": 4,
   "id": "da41cda4",
   "metadata": {},
   "outputs": [],
   "source": [
    "# First we create a boolean mask to filter out the rows that have a CPU time of 0. \n",
    "bNoCPUTimeMask = dfSacct['CPUTimeRAW'] != 0\n",
    "\n",
    "# We now apply this mask to the dfSacctJune DataFrame\n",
    "dfSacct = dfSacct[bNoCPUTimeMask]"
   ]
  },
  {
   "cell_type": "markdown",
   "id": "11bd80b6",
   "metadata": {},
   "source": [
    "Furthermore, some jobs towards the end of the month have not yet ended, resunting in an *Unknown* end time. We have decided that, in the case of a monthly analysis, we will not take into account any jobs that do not end within the specified month. As a result, we will remove the jobs with *Unknown* end times from our DataFrame. "
   ]
  },
  {
   "cell_type": "code",
   "execution_count": 5,
   "id": "922191af",
   "metadata": {},
   "outputs": [
    {
     "data": {
      "text/html": [
       "<div>\n",
       "<style scoped>\n",
       "    .dataframe tbody tr th:only-of-type {\n",
       "        vertical-align: middle;\n",
       "    }\n",
       "\n",
       "    .dataframe tbody tr th {\n",
       "        vertical-align: top;\n",
       "    }\n",
       "\n",
       "    .dataframe thead th {\n",
       "        text-align: right;\n",
       "    }\n",
       "</style>\n",
       "<table border=\"1\" class=\"dataframe\">\n",
       "  <thead>\n",
       "    <tr style=\"text-align: right;\">\n",
       "      <th></th>\n",
       "      <th>JobName</th>\n",
       "      <th>Partition</th>\n",
       "      <th>ElapsedRaw</th>\n",
       "      <th>Account</th>\n",
       "      <th>State</th>\n",
       "      <th>CPUTimeRAW</th>\n",
       "      <th>NodeList</th>\n",
       "      <th>User</th>\n",
       "      <th>AllocCPUS</th>\n",
       "      <th>AllocNodes</th>\n",
       "      <th>QOS</th>\n",
       "      <th>Start</th>\n",
       "      <th>End</th>\n",
       "      <th>Timelimit</th>\n",
       "      <th>Suspended</th>\n",
       "    </tr>\n",
       "    <tr>\n",
       "      <th>JobIDRaw</th>\n",
       "      <th></th>\n",
       "      <th></th>\n",
       "      <th></th>\n",
       "      <th></th>\n",
       "      <th></th>\n",
       "      <th></th>\n",
       "      <th></th>\n",
       "      <th></th>\n",
       "      <th></th>\n",
       "      <th></th>\n",
       "      <th></th>\n",
       "      <th></th>\n",
       "      <th></th>\n",
       "      <th></th>\n",
       "      <th></th>\n",
       "    </tr>\n",
       "  </thead>\n",
       "  <tbody>\n",
       "    <tr>\n",
       "      <th>23299509</th>\n",
       "      <td>fbe0f463a6725956666ee2ca8997a8013deeaaf7933876...</td>\n",
       "      <td>ampere</td>\n",
       "      <td>129615</td>\n",
       "      <td>064913b8f3d7de55ed18a2a0f29cf9f2d49a9bf2a68467...</td>\n",
       "      <td>TIMEOUT</td>\n",
       "      <td>129615</td>\n",
       "      <td>gpu-q-15</td>\n",
       "      <td>9d2240399ac4b590d6f3d5fd8bf13a6a29937bd5124d64...</td>\n",
       "      <td>1</td>\n",
       "      <td>1</td>\n",
       "      <td>dirac-gpu1</td>\n",
       "      <td>2023-07-03T11:26:17</td>\n",
       "      <td>2023-07-04T23:26:32</td>\n",
       "      <td>1-12:00:00</td>\n",
       "      <td>00:00:00</td>\n",
       "    </tr>\n",
       "    <tr>\n",
       "      <th>23299510</th>\n",
       "      <td>fbe0f463a6725956666ee2ca8997a8013deeaaf7933876...</td>\n",
       "      <td>ampere</td>\n",
       "      <td>129615</td>\n",
       "      <td>064913b8f3d7de55ed18a2a0f29cf9f2d49a9bf2a68467...</td>\n",
       "      <td>TIMEOUT</td>\n",
       "      <td>129615</td>\n",
       "      <td>gpu-q-15</td>\n",
       "      <td>9d2240399ac4b590d6f3d5fd8bf13a6a29937bd5124d64...</td>\n",
       "      <td>1</td>\n",
       "      <td>1</td>\n",
       "      <td>dirac-gpu1</td>\n",
       "      <td>2023-07-03T11:26:17</td>\n",
       "      <td>2023-07-04T23:26:32</td>\n",
       "      <td>1-12:00:00</td>\n",
       "      <td>00:00:00</td>\n",
       "    </tr>\n",
       "    <tr>\n",
       "      <th>23299511</th>\n",
       "      <td>fbe0f463a6725956666ee2ca8997a8013deeaaf7933876...</td>\n",
       "      <td>ampere</td>\n",
       "      <td>129615</td>\n",
       "      <td>064913b8f3d7de55ed18a2a0f29cf9f2d49a9bf2a68467...</td>\n",
       "      <td>TIMEOUT</td>\n",
       "      <td>129615</td>\n",
       "      <td>gpu-q-15</td>\n",
       "      <td>9d2240399ac4b590d6f3d5fd8bf13a6a29937bd5124d64...</td>\n",
       "      <td>1</td>\n",
       "      <td>1</td>\n",
       "      <td>dirac-gpu1</td>\n",
       "      <td>2023-07-03T11:26:17</td>\n",
       "      <td>2023-07-04T23:26:32</td>\n",
       "      <td>1-12:00:00</td>\n",
       "      <td>00:00:00</td>\n",
       "    </tr>\n",
       "    <tr>\n",
       "      <th>23299512</th>\n",
       "      <td>fbe0f463a6725956666ee2ca8997a8013deeaaf7933876...</td>\n",
       "      <td>ampere</td>\n",
       "      <td>129615</td>\n",
       "      <td>064913b8f3d7de55ed18a2a0f29cf9f2d49a9bf2a68467...</td>\n",
       "      <td>TIMEOUT</td>\n",
       "      <td>129615</td>\n",
       "      <td>gpu-q-38</td>\n",
       "      <td>9d2240399ac4b590d6f3d5fd8bf13a6a29937bd5124d64...</td>\n",
       "      <td>1</td>\n",
       "      <td>1</td>\n",
       "      <td>dirac-gpu1</td>\n",
       "      <td>2023-07-03T11:26:17</td>\n",
       "      <td>2023-07-04T23:26:32</td>\n",
       "      <td>1-12:00:00</td>\n",
       "      <td>00:00:00</td>\n",
       "    </tr>\n",
       "    <tr>\n",
       "      <th>23299513</th>\n",
       "      <td>fbe0f463a6725956666ee2ca8997a8013deeaaf7933876...</td>\n",
       "      <td>ampere</td>\n",
       "      <td>129615</td>\n",
       "      <td>064913b8f3d7de55ed18a2a0f29cf9f2d49a9bf2a68467...</td>\n",
       "      <td>TIMEOUT</td>\n",
       "      <td>129615</td>\n",
       "      <td>gpu-q-70</td>\n",
       "      <td>9d2240399ac4b590d6f3d5fd8bf13a6a29937bd5124d64...</td>\n",
       "      <td>1</td>\n",
       "      <td>1</td>\n",
       "      <td>dirac-gpu1</td>\n",
       "      <td>2023-07-03T11:26:17</td>\n",
       "      <td>2023-07-04T23:26:32</td>\n",
       "      <td>1-12:00:00</td>\n",
       "      <td>00:00:00</td>\n",
       "    </tr>\n",
       "  </tbody>\n",
       "</table>\n",
       "</div>"
      ],
      "text/plain": [
       "                                                    JobName Partition  \\\n",
       "JobIDRaw                                                                \n",
       "23299509  fbe0f463a6725956666ee2ca8997a8013deeaaf7933876...    ampere   \n",
       "23299510  fbe0f463a6725956666ee2ca8997a8013deeaaf7933876...    ampere   \n",
       "23299511  fbe0f463a6725956666ee2ca8997a8013deeaaf7933876...    ampere   \n",
       "23299512  fbe0f463a6725956666ee2ca8997a8013deeaaf7933876...    ampere   \n",
       "23299513  fbe0f463a6725956666ee2ca8997a8013deeaaf7933876...    ampere   \n",
       "\n",
       "          ElapsedRaw                                            Account  \\\n",
       "JobIDRaw                                                                  \n",
       "23299509      129615  064913b8f3d7de55ed18a2a0f29cf9f2d49a9bf2a68467...   \n",
       "23299510      129615  064913b8f3d7de55ed18a2a0f29cf9f2d49a9bf2a68467...   \n",
       "23299511      129615  064913b8f3d7de55ed18a2a0f29cf9f2d49a9bf2a68467...   \n",
       "23299512      129615  064913b8f3d7de55ed18a2a0f29cf9f2d49a9bf2a68467...   \n",
       "23299513      129615  064913b8f3d7de55ed18a2a0f29cf9f2d49a9bf2a68467...   \n",
       "\n",
       "            State  CPUTimeRAW  NodeList  \\\n",
       "JobIDRaw                                  \n",
       "23299509  TIMEOUT      129615  gpu-q-15   \n",
       "23299510  TIMEOUT      129615  gpu-q-15   \n",
       "23299511  TIMEOUT      129615  gpu-q-15   \n",
       "23299512  TIMEOUT      129615  gpu-q-38   \n",
       "23299513  TIMEOUT      129615  gpu-q-70   \n",
       "\n",
       "                                                       User  AllocCPUS  \\\n",
       "JobIDRaw                                                                 \n",
       "23299509  9d2240399ac4b590d6f3d5fd8bf13a6a29937bd5124d64...          1   \n",
       "23299510  9d2240399ac4b590d6f3d5fd8bf13a6a29937bd5124d64...          1   \n",
       "23299511  9d2240399ac4b590d6f3d5fd8bf13a6a29937bd5124d64...          1   \n",
       "23299512  9d2240399ac4b590d6f3d5fd8bf13a6a29937bd5124d64...          1   \n",
       "23299513  9d2240399ac4b590d6f3d5fd8bf13a6a29937bd5124d64...          1   \n",
       "\n",
       "          AllocNodes         QOS                Start                  End  \\\n",
       "JobIDRaw                                                                     \n",
       "23299509           1  dirac-gpu1  2023-07-03T11:26:17  2023-07-04T23:26:32   \n",
       "23299510           1  dirac-gpu1  2023-07-03T11:26:17  2023-07-04T23:26:32   \n",
       "23299511           1  dirac-gpu1  2023-07-03T11:26:17  2023-07-04T23:26:32   \n",
       "23299512           1  dirac-gpu1  2023-07-03T11:26:17  2023-07-04T23:26:32   \n",
       "23299513           1  dirac-gpu1  2023-07-03T11:26:17  2023-07-04T23:26:32   \n",
       "\n",
       "           Timelimit Suspended  \n",
       "JobIDRaw                        \n",
       "23299509  1-12:00:00  00:00:00  \n",
       "23299510  1-12:00:00  00:00:00  \n",
       "23299511  1-12:00:00  00:00:00  \n",
       "23299512  1-12:00:00  00:00:00  \n",
       "23299513  1-12:00:00  00:00:00  "
      ]
     },
     "execution_count": 5,
     "metadata": {},
     "output_type": "execute_result"
    }
   ],
   "source": [
    "# First we create a boolean mask to filter out the rows that have an \n",
    "# 'Unknown' end time. \n",
    "bKnownEndTime = dfSacct['End'] != 'Unknown'\n",
    "\n",
    "# We now apply this mask to the dfSacctJune DataFrame\n",
    "dfSacct = dfSacct[bKnownEndTime]\n",
    "\n",
    "dfSacct.head()"
   ]
  },
  {
   "cell_type": "markdown",
   "id": "db3f3284",
   "metadata": {},
   "source": [
    "We will now check the data type of each column in the DataFrame *dfSacctJune*. "
   ]
  },
  {
   "cell_type": "code",
   "execution_count": 6,
   "id": "5f592f19",
   "metadata": {},
   "outputs": [
    {
     "data": {
      "text/plain": [
       "JobName       object\n",
       "Partition     object\n",
       "ElapsedRaw     int64\n",
       "Account       object\n",
       "State         object\n",
       "CPUTimeRAW     int64\n",
       "NodeList      object\n",
       "User          object\n",
       "AllocCPUS      int64\n",
       "AllocNodes     int64\n",
       "QOS           object\n",
       "Start         object\n",
       "End           object\n",
       "Timelimit     object\n",
       "Suspended     object\n",
       "dtype: object"
      ]
     },
     "execution_count": 6,
     "metadata": {},
     "output_type": "execute_result"
    }
   ],
   "source": [
    "dfSacct.dtypes"
   ]
  },
  {
   "cell_type": "markdown",
   "id": "4eed3f4a",
   "metadata": {},
   "source": [
    "As you can see from the code cell above, the *Start* and *End* columns do not contain datetime values, even though all values will be in a datatime64 format. Therefore, we will now convert the values in these two columns to the datatime64 type"
   ]
  },
  {
   "cell_type": "code",
   "execution_count": 7,
   "id": "8fb56028",
   "metadata": {},
   "outputs": [],
   "source": [
    "dfSacct['Start'] = pd.to_datetime(dfSacct['Start'], format='%Y-%m-%dT%H:%M:%S')\n",
    "dfSacct['End'] = pd.to_datetime(dfSacct['End'], format='%Y-%m-%dT%H:%M:%S')"
   ]
  },
  {
   "cell_type": "markdown",
   "id": "3b2ffd00",
   "metadata": {},
   "source": [
    "Now that these columns have values of the type datetime64, we can sort the DataFrame based on the start times of the jobs. "
   ]
  },
  {
   "cell_type": "code",
   "execution_count": 8,
   "id": "e4d26b44",
   "metadata": {},
   "outputs": [],
   "source": [
    "dfSacct.sort_values('Start', axis=0, inplace=True)"
   ]
  },
  {
   "cell_type": "markdown",
   "id": "2e984077",
   "metadata": {},
   "source": [
    "As seen by the code block below, some jobs run across multiple partitions. However we have not accounted for this when initially writing our code to check for the exclusiveness of a job. There are also some partitions that did not appear when we obtained our partition information using the *sinfo* command. As a result we do not have the information on the number of CPUs per node for these partitions. "
   ]
  },
  {
   "cell_type": "code",
   "execution_count": 9,
   "id": "33d9a4ad",
   "metadata": {},
   "outputs": [
    {
     "data": {
      "text/plain": [
       "array(['mtg', 'ampere-long', 'cclake-long', 'epid', 'icelake', 'cclake',\n",
       "       'ampere', 'skylake', 'pascal', 'skylake-himem', 'login-epicov',\n",
       "       'cclake-himem', 'icelake-himem', 'cardio', 'desktop', 'bluefield',\n",
       "       'cardio_intr', 'icelake-long', 'mtg-himem'], dtype=object)"
      ]
     },
     "execution_count": 9,
     "metadata": {},
     "output_type": "execute_result"
    }
   ],
   "source": [
    "# The output of this code block shows that some jobs run across multiple partitions \n",
    "# (E.g., the value 'cclake,skylake-himem,cclake-himem,icelake-himem,skylake,icelake'\n",
    "# in the 'Partition' column shows that at least one job runs across 6 partitions)\n",
    "dfSacct['Partition'].unique()"
   ]
  },
  {
   "cell_type": "markdown",
   "id": "68e65dee",
   "metadata": {},
   "source": [
    "We are first going to calculate the proportion of total jobs that we do not have partition information for (this includes the jobs that run across multiple partitions). "
   ]
  },
  {
   "cell_type": "code",
   "execution_count": 10,
   "id": "9661f3a8",
   "metadata": {},
   "outputs": [
    {
     "name": "stdout",
     "output_type": "stream",
     "text": [
      "A total of 289 jobs are not accounted for in the dfPartition DataFrame.\n",
      "This makes up 0.033 % of the sacct data from June.\n",
      "0.0002561274% of CPU time does not have partition data\n"
     ]
    }
   ],
   "source": [
    "# We are going to iterate through each partition present in the sacct dataset. For each partition, if it is not present\n",
    "# in the dfPartition DataFrame, then we are going to find the number of jobs running on that partition before adding \n",
    "# this value to our total. \n",
    "iExcludedCount = 0\n",
    "iExcludeRuntime = 0\n",
    "\n",
    "for sPartitionName in dfSacct['Partition'].unique():\n",
    "    if (sPartitionName not in dfPartition.index): \n",
    "        iExcludedCount += np.sum(dfSacct['Partition'] == sPartitionName)\n",
    "        iExcludeRuntime += np.sum(dfSacct[dfSacct['Partition'] == sPartitionName]['CPUTimeRAW'])\n",
    "\n",
    "iPercentage = np.round((iExcludedCount/len(dfSacct))*100, decimals=3)\n",
    "iRunPercentage = np.round((iExcludeRuntime/np.sum(dfSacct['CPUTimeRAW'])), decimals=10)\n",
    "        \n",
    "print(\"A total of\", iExcludedCount, \"jobs are not accounted for in the dfPartition DataFrame.\")\n",
    "print(\"This makes up\", iPercentage, \"% of the sacct data from June.\")\n",
    "print(f'{iRunPercentage}% of CPU time does not have partition data')"
   ]
  },
  {
   "cell_type": "markdown",
   "id": "92d5a02a",
   "metadata": {},
   "source": [
    "As we can see from the code cell above, 0.033% of the June sacct data is not accounted for by the *dfPartition* DataFrame. \n",
    "\n",
    "Since this makes up such a small proportion of the total data, we will initially remove these jobs from the dataset. "
   ]
  },
  {
   "cell_type": "code",
   "execution_count": 11,
   "id": "42c92d06",
   "metadata": {},
   "outputs": [],
   "source": [
    "# We first create a boolean mask to filter out the jobs that do not run partitions accounted for by dfPartition.\n",
    "bExcludePartitionMask = dfSacct['Partition'].isin(dfPartition.index)\n",
    "\n",
    "# We then apply this boolean mask to dfSacctJune.\n",
    "dfSacct = dfSacct[bExcludePartitionMask]"
   ]
  },
  {
   "attachments": {},
   "cell_type": "markdown",
   "id": "db736cdd",
   "metadata": {},
   "source": [
    "We will now save the *dfSacctJune* DataFrame as a .csv file so that it can be accessed in other notebooks. "
   ]
  },
  {
   "cell_type": "code",
   "execution_count": 11,
   "id": "fa78d590",
   "metadata": {},
   "outputs": [],
   "source": [
    "# We will also create a csv file to store the data types of the DataFrame columns. \n",
    "dfTypes = dfSacct.dtypes.to_frame()\n",
    "dfTypes.loc[['Start', 'End']] = 'str'\n",
    "dfTypes.to_csv('../data/SacctTypes.csv')\n",
    "\n",
    "# Here we save the DataFrame as a .csv file. \n",
    "dfSacct.to_csv('../data/dfSacctPartialProcessed.csv')"
   ]
  },
  {
   "attachments": {},
   "cell_type": "markdown",
   "id": "c7c86783",
   "metadata": {},
   "source": [
    "*NOTE: we will now end this notebook to ensure it remains readable. We will continue the pre-processing of the anonymised sacct data in the 'Slurm-EDA-June-Exclusive' notebook, where we will carry out the checks for whether or not a job is exclusive.*"
   ]
  }
 ],
 "metadata": {
  "kernelspec": {
   "display_name": "Python 3 (ipykernel)",
   "language": "python",
   "name": "python3"
  },
  "language_info": {
   "codemirror_mode": {
    "name": "ipython",
    "version": 3
   },
   "file_extension": ".py",
   "mimetype": "text/x-python",
   "name": "python",
   "nbconvert_exporter": "python",
   "pygments_lexer": "ipython3",
   "version": "3.8.16"
  }
 },
 "nbformat": 4,
 "nbformat_minor": 5
}
