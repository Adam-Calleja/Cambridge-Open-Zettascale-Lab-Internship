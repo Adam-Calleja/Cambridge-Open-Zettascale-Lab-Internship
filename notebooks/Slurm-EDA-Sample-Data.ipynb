{
 "cells": [
  {
   "attachments": {},
   "cell_type": "markdown",
   "id": "241ef728",
   "metadata": {},
   "source": [
    "# Slurm EDA - Sample Data"
   ]
  },
  {
   "cell_type": "markdown",
   "id": "6560dc2f",
   "metadata": {},
   "source": [
    "In this Jupyter Notebook, we start an EDA on the Slurm data from the CSD3 supercomputer with the goal of gaining valuable insights into the data, as well as the proportion of shared jobs submitted using Slurm."
   ]
  },
  {
   "cell_type": "markdown",
   "id": "6c781c1b",
   "metadata": {},
   "source": [
    "We will begin by importing all the necessary libraries. "
   ]
  },
  {
   "cell_type": "code",
   "execution_count": 2,
   "id": "be2b945a",
   "metadata": {},
   "outputs": [],
   "source": [
    "import pandas as pd\n",
    "import numpy as np\n",
    "import datetime\n",
    "import re\n",
    "import plotly.express as px\n",
    "import plotly.graph_objects as go\n",
    "import plotly.subplots as sp"
   ]
  },
  {
   "cell_type": "markdown",
   "id": "f9bb4a3a",
   "metadata": {},
   "source": [
    "## Test on Sample Data"
   ]
  },
  {
   "cell_type": "markdown",
   "id": "9a8307d5",
   "metadata": {},
   "source": [
    "Initially, we did not have access to any user data from Slurm. As a result we will begin by analysing the Slurm data for the jobs that we have submitted."
   ]
  },
  {
   "cell_type": "markdown",
   "id": "b976f814",
   "metadata": {},
   "source": [
    "### Loading in The Partition Data"
   ]
  },
  {
   "cell_type": "markdown",
   "id": "fe2c71ee",
   "metadata": {},
   "source": [
    "Before we explore the job data, we are going to create a dictionary containing the number of cores per node for each partition. \n",
    "\n",
    "To do this we first need to load in some data containing the partition name, the number of nodes of that partition and the number of CPUs per node of that partition. This data was obtained using the command *sinfo --format '%R|%D|%c|'*."
   ]
  },
  {
   "cell_type": "code",
   "execution_count": 3,
   "id": "90dbc9ea",
   "metadata": {},
   "outputs": [
    {
     "data": {
      "text/html": [
       "<div>\n",
       "<style scoped>\n",
       "    .dataframe tbody tr th:only-of-type {\n",
       "        vertical-align: middle;\n",
       "    }\n",
       "\n",
       "    .dataframe tbody tr th {\n",
       "        vertical-align: top;\n",
       "    }\n",
       "\n",
       "    .dataframe thead th {\n",
       "        text-align: right;\n",
       "    }\n",
       "</style>\n",
       "<table border=\"1\" class=\"dataframe\">\n",
       "  <thead>\n",
       "    <tr style=\"text-align: right;\">\n",
       "      <th></th>\n",
       "      <th>PARTITION</th>\n",
       "      <th>NODES</th>\n",
       "      <th>CPUS</th>\n",
       "    </tr>\n",
       "  </thead>\n",
       "  <tbody>\n",
       "    <tr>\n",
       "      <th>0</th>\n",
       "      <td>skylake</td>\n",
       "      <td>1145</td>\n",
       "      <td>32</td>\n",
       "    </tr>\n",
       "    <tr>\n",
       "      <th>1</th>\n",
       "      <td>skylake-himem</td>\n",
       "      <td>384</td>\n",
       "      <td>32</td>\n",
       "    </tr>\n",
       "    <tr>\n",
       "      <th>2</th>\n",
       "      <td>skylake-long</td>\n",
       "      <td>50</td>\n",
       "      <td>32</td>\n",
       "    </tr>\n",
       "    <tr>\n",
       "      <th>3</th>\n",
       "      <td>cclake</td>\n",
       "      <td>672</td>\n",
       "      <td>56</td>\n",
       "    </tr>\n",
       "    <tr>\n",
       "      <th>4</th>\n",
       "      <td>cclake-himem</td>\n",
       "      <td>56</td>\n",
       "      <td>56</td>\n",
       "    </tr>\n",
       "    <tr>\n",
       "      <th>5</th>\n",
       "      <td>cclake-long</td>\n",
       "      <td>84</td>\n",
       "      <td>56</td>\n",
       "    </tr>\n",
       "    <tr>\n",
       "      <th>6</th>\n",
       "      <td>icelake</td>\n",
       "      <td>544</td>\n",
       "      <td>76</td>\n",
       "    </tr>\n",
       "    <tr>\n",
       "      <th>7</th>\n",
       "      <td>icelake-himem</td>\n",
       "      <td>136</td>\n",
       "      <td>76</td>\n",
       "    </tr>\n",
       "    <tr>\n",
       "      <th>8</th>\n",
       "      <td>icelake-long</td>\n",
       "      <td>56</td>\n",
       "      <td>76</td>\n",
       "    </tr>\n",
       "    <tr>\n",
       "      <th>9</th>\n",
       "      <td>sapphire</td>\n",
       "      <td>112</td>\n",
       "      <td>112</td>\n",
       "    </tr>\n",
       "    <tr>\n",
       "      <th>10</th>\n",
       "      <td>ampere</td>\n",
       "      <td>90</td>\n",
       "      <td>128</td>\n",
       "    </tr>\n",
       "    <tr>\n",
       "      <th>11</th>\n",
       "      <td>ampere-long</td>\n",
       "      <td>10</td>\n",
       "      <td>128</td>\n",
       "    </tr>\n",
       "    <tr>\n",
       "      <th>12</th>\n",
       "      <td>pvc</td>\n",
       "      <td>2</td>\n",
       "      <td>104+</td>\n",
       "    </tr>\n",
       "    <tr>\n",
       "      <th>13</th>\n",
       "      <td>bluefield</td>\n",
       "      <td>160</td>\n",
       "      <td>8+</td>\n",
       "    </tr>\n",
       "    <tr>\n",
       "      <th>14</th>\n",
       "      <td>login-epicov</td>\n",
       "      <td>1</td>\n",
       "      <td>64</td>\n",
       "    </tr>\n",
       "    <tr>\n",
       "      <th>15</th>\n",
       "      <td>mtg</td>\n",
       "      <td>20</td>\n",
       "      <td>56</td>\n",
       "    </tr>\n",
       "    <tr>\n",
       "      <th>16</th>\n",
       "      <td>mtg-himem</td>\n",
       "      <td>32</td>\n",
       "      <td>64</td>\n",
       "    </tr>\n",
       "    <tr>\n",
       "      <th>17</th>\n",
       "      <td>epid</td>\n",
       "      <td>30</td>\n",
       "      <td>20</td>\n",
       "    </tr>\n",
       "    <tr>\n",
       "      <th>18</th>\n",
       "      <td>como</td>\n",
       "      <td>7</td>\n",
       "      <td>32</td>\n",
       "    </tr>\n",
       "    <tr>\n",
       "      <th>19</th>\n",
       "      <td>cardio</td>\n",
       "      <td>4</td>\n",
       "      <td>20</td>\n",
       "    </tr>\n",
       "    <tr>\n",
       "      <th>20</th>\n",
       "      <td>cardio_intr</td>\n",
       "      <td>1</td>\n",
       "      <td>20</td>\n",
       "    </tr>\n",
       "    <tr>\n",
       "      <th>21</th>\n",
       "      <td>cardio_short</td>\n",
       "      <td>1</td>\n",
       "      <td>8</td>\n",
       "    </tr>\n",
       "    <tr>\n",
       "      <th>22</th>\n",
       "      <td>desktop</td>\n",
       "      <td>19</td>\n",
       "      <td>4</td>\n",
       "    </tr>\n",
       "  </tbody>\n",
       "</table>\n",
       "</div>"
      ],
      "text/plain": [
       "        PARTITION  NODES  CPUS\n",
       "0         skylake   1145    32\n",
       "1   skylake-himem    384    32\n",
       "2    skylake-long     50    32\n",
       "3          cclake    672    56\n",
       "4    cclake-himem     56    56\n",
       "5     cclake-long     84    56\n",
       "6         icelake    544    76\n",
       "7   icelake-himem    136    76\n",
       "8    icelake-long     56    76\n",
       "9        sapphire    112   112\n",
       "10         ampere     90   128\n",
       "11    ampere-long     10   128\n",
       "12            pvc      2  104+\n",
       "13      bluefield    160    8+\n",
       "14   login-epicov      1    64\n",
       "15            mtg     20    56\n",
       "16      mtg-himem     32    64\n",
       "17           epid     30    20\n",
       "18           como      7    32\n",
       "19         cardio      4    20\n",
       "20    cardio_intr      1    20\n",
       "21   cardio_short      1     8\n",
       "22        desktop     19     4"
      ]
     },
     "execution_count": 3,
     "metadata": {},
     "output_type": "execute_result"
    }
   ],
   "source": [
    "# We will no read the .txt file containing the partition data into a pandas DataFrame.\n",
    "sPartitionDataPath = '../data/partition-info-all.txt'\n",
    "dfPartition = pd.read_csv(sPartitionDataPath, sep='|')\n",
    "\n",
    "# This DataFrame contains an extra column at the end which we will remove now. \n",
    "dfPartition = dfPartition.iloc[:, :-1]\n",
    "\n",
    "# We will now output the DataFrame\n",
    "dfPartition"
   ]
  },
  {
   "cell_type": "markdown",
   "id": "401cc3df",
   "metadata": {},
   "source": [
    "We will now modify the *dfPartition* DataFrame to only include the *CPUS* column and have the *PARTITION* column as the index. "
   ]
  },
  {
   "cell_type": "code",
   "execution_count": 4,
   "id": "6f711272",
   "metadata": {},
   "outputs": [
    {
     "data": {
      "text/html": [
       "<div>\n",
       "<style scoped>\n",
       "    .dataframe tbody tr th:only-of-type {\n",
       "        vertical-align: middle;\n",
       "    }\n",
       "\n",
       "    .dataframe tbody tr th {\n",
       "        vertical-align: top;\n",
       "    }\n",
       "\n",
       "    .dataframe thead th {\n",
       "        text-align: right;\n",
       "    }\n",
       "</style>\n",
       "<table border=\"1\" class=\"dataframe\">\n",
       "  <thead>\n",
       "    <tr style=\"text-align: right;\">\n",
       "      <th></th>\n",
       "      <th>CPUS</th>\n",
       "    </tr>\n",
       "    <tr>\n",
       "      <th>PARTITION</th>\n",
       "      <th></th>\n",
       "    </tr>\n",
       "  </thead>\n",
       "  <tbody>\n",
       "    <tr>\n",
       "      <th>skylake</th>\n",
       "      <td>32</td>\n",
       "    </tr>\n",
       "    <tr>\n",
       "      <th>skylake-himem</th>\n",
       "      <td>32</td>\n",
       "    </tr>\n",
       "    <tr>\n",
       "      <th>skylake-long</th>\n",
       "      <td>32</td>\n",
       "    </tr>\n",
       "    <tr>\n",
       "      <th>cclake</th>\n",
       "      <td>56</td>\n",
       "    </tr>\n",
       "    <tr>\n",
       "      <th>cclake-himem</th>\n",
       "      <td>56</td>\n",
       "    </tr>\n",
       "  </tbody>\n",
       "</table>\n",
       "</div>"
      ],
      "text/plain": [
       "              CPUS\n",
       "PARTITION         \n",
       "skylake         32\n",
       "skylake-himem   32\n",
       "skylake-long    32\n",
       "cclake          56\n",
       "cclake-himem    56"
      ]
     },
     "execution_count": 4,
     "metadata": {},
     "output_type": "execute_result"
    }
   ],
   "source": [
    "# We will make the 'PARTITION' column the index of this DataFrame and then remove the column.\n",
    "# We are not interested in the number of nodes for each partition, so we will remove this column. \n",
    "dfPartition.index = dfPartition['PARTITION']\n",
    "dfPartition = dfPartition.drop(['NODES', 'PARTITION'], axis=1)\n",
    "\n",
    "# We will now output the first 5 rows of the DataFrame\n",
    "dfPartition.head()"
   ]
  },
  {
   "cell_type": "markdown",
   "id": "a04a4824",
   "metadata": {},
   "source": [
    "The *pvc* and *bluefield* partitions contain 104+ and 8+ CPUs per node respectively. ***At the time of writing it is unclear what this means. For the moment we are going to remove any job data for the pvc and bluefield partitions and focus the EDA on the rest of the slurm data. The code cell below removes the '+' from these values to allow their data to be used and is kept in case we decide to use it in the future***."
   ]
  },
  {
   "cell_type": "code",
   "execution_count": 5,
   "id": "dd029f9e",
   "metadata": {},
   "outputs": [],
   "source": [
    "# dfPartition['CPUS'] = pd.to_numeric(dfPartition['CPUS'].str.strip('+'), errors='coerce')\n",
    "# dfPartition.dtypes"
   ]
  },
  {
   "cell_type": "markdown",
   "id": "76c62850",
   "metadata": {},
   "source": [
    "***The code cell below removes any rows in the dfPartition DataFrame that have a value in the CPUS column that ends in a '+', as explained above***."
   ]
  },
  {
   "cell_type": "code",
   "execution_count": 6,
   "id": "15f815b8",
   "metadata": {},
   "outputs": [],
   "source": [
    "# We create a boolean mask that returns True for all rows that have a \n",
    "# CPUS value that doesn't end in a '+'\n",
    "bNoPlusMask = ~dfPartition['CPUS'].str.endswith('+')\n",
    "\n",
    "# We now apply this mask to the dfPartition DataFrame\n",
    "dfPartition = dfPartition[bNoPlusMask]"
   ]
  },
  {
   "cell_type": "markdown",
   "id": "86ea6065",
   "metadata": {},
   "source": [
    "The code block below shows that, although all the values in dfPartition are integers, they are an object type. As a result we will now cast them to a numeric data type. "
   ]
  },
  {
   "cell_type": "code",
   "execution_count": 7,
   "id": "5fecc054",
   "metadata": {},
   "outputs": [
    {
     "data": {
      "text/plain": [
       "CPUS    object\n",
       "dtype: object"
      ]
     },
     "execution_count": 7,
     "metadata": {},
     "output_type": "execute_result"
    }
   ],
   "source": [
    "dfPartition.dtypes"
   ]
  },
  {
   "cell_type": "code",
   "execution_count": 8,
   "id": "1ebaad05",
   "metadata": {},
   "outputs": [],
   "source": [
    "# Here we cast the values of the CPUS column to a numeric data type\n",
    "dfPartition['CPUS'] = pd.to_numeric(dfPartition['CPUS'], errors='coerce')"
   ]
  },
  {
   "attachments": {},
   "cell_type": "markdown",
   "id": "bc118ea3",
   "metadata": {},
   "source": [
    "We will now save the dfPartition DataFrame to a .csv file so that we can use it in other notebooks. "
   ]
  },
  {
   "cell_type": "code",
   "execution_count": 32,
   "id": "2e1a85f5",
   "metadata": {},
   "outputs": [],
   "source": [
    "# We will also create a csv file to store the data types of the DataFrame columns. \n",
    "dfTypes = dfPartition.dtypes.to_frame()\n",
    "dfTypes.to_csv('../data/partitionTypes.csv')\n",
    "\n",
    "# Here we save the DataFrame as a .csv file. \n",
    "dfPartition.to_csv('../data/dfPartition.csv')"
   ]
  },
  {
   "attachments": {},
   "cell_type": "markdown",
   "id": "147f59da",
   "metadata": {},
   "source": [
    "*NOTE: this is the end of the Slurm EDA using the sample data. At this point we were given the anonymised sacct data for June and continued our work using this new dataset. To see this work please look at the 'Slrum-EDA-June-Preparation' notebook.*"
   ]
  }
 ],
 "metadata": {
  "kernelspec": {
   "display_name": "Python 3 (ipykernel)",
   "language": "python",
   "name": "python3"
  },
  "language_info": {
   "codemirror_mode": {
    "name": "ipython",
    "version": 3
   },
   "file_extension": ".py",
   "mimetype": "text/x-python",
   "name": "python",
   "nbconvert_exporter": "python",
   "pygments_lexer": "ipython3",
   "version": "3.8.16"
  }
 },
 "nbformat": 4,
 "nbformat_minor": 5
}
